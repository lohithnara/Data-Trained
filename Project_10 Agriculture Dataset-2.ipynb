{
 "cells": [
  {
   "cell_type": "code",
   "execution_count": 1,
   "metadata": {},
   "outputs": [],
   "source": [
    "# Importing the libraries\n",
    "import numpy as np\n",
    "import pandas as pd \n",
    "import seaborn as sns\n",
    "from matplotlib import pyplot as plt\n",
    "from sklearn import metrics\n",
    "import warnings\n",
    "warnings.simplefilter('ignore')\n",
    "%matplotlib inline"
   ]
  },
  {
   "cell_type": "code",
   "execution_count": 2,
   "metadata": {},
   "outputs": [],
   "source": [
    "# Read the train dataset\n",
    "df1=pd.read_excel('train_agriculture.xlsx')"
   ]
  },
  {
   "cell_type": "code",
   "execution_count": 3,
   "metadata": {},
   "outputs": [
    {
     "data": {
      "text/plain": [
       "(4599, 10)"
      ]
     },
     "execution_count": 3,
     "metadata": {},
     "output_type": "execute_result"
    }
   ],
   "source": [
    "# shaping the data\n",
    "df1.shape"
   ]
  },
  {
   "cell_type": "code",
   "execution_count": 4,
   "metadata": {},
   "outputs": [],
   "source": [
    "# Read the test dataset\n",
    "df2=pd.read_excel('test_agriculture.xlsx')"
   ]
  },
  {
   "cell_type": "code",
   "execution_count": 5,
   "metadata": {},
   "outputs": [
    {
     "data": {
      "text/plain": [
       "(1199, 9)"
      ]
     },
     "execution_count": 5,
     "metadata": {},
     "output_type": "execute_result"
    }
   ],
   "source": [
    "# shaping the data\n",
    "df2.shape"
   ]
  },
  {
   "cell_type": "code",
   "execution_count": 6,
   "metadata": {},
   "outputs": [],
   "source": [
    "# concating the datasets\n",
    "df = pd.concat([df1,df2],sort=False)"
   ]
  },
  {
   "cell_type": "code",
   "execution_count": 7,
   "metadata": {},
   "outputs": [
    {
     "data": {
      "text/html": [
       "<div>\n",
       "<style scoped>\n",
       "    .dataframe tbody tr th:only-of-type {\n",
       "        vertical-align: middle;\n",
       "    }\n",
       "\n",
       "    .dataframe tbody tr th {\n",
       "        vertical-align: top;\n",
       "    }\n",
       "\n",
       "    .dataframe thead th {\n",
       "        text-align: right;\n",
       "    }\n",
       "</style>\n",
       "<table border=\"1\" class=\"dataframe\">\n",
       "  <thead>\n",
       "    <tr style=\"text-align: right;\">\n",
       "      <th></th>\n",
       "      <th>ID</th>\n",
       "      <th>Estimated_Insects_Count</th>\n",
       "      <th>Crop_Type</th>\n",
       "      <th>Soil_Type</th>\n",
       "      <th>Pesticide_Use_Category</th>\n",
       "      <th>Number_Doses_Week</th>\n",
       "      <th>Number_Weeks_Used</th>\n",
       "      <th>Number_Weeks_Quit</th>\n",
       "      <th>Season</th>\n",
       "      <th>Crop_Damage</th>\n",
       "    </tr>\n",
       "  </thead>\n",
       "  <tbody>\n",
       "    <tr>\n",
       "      <th>0</th>\n",
       "      <td>F00000001</td>\n",
       "      <td>188</td>\n",
       "      <td>1</td>\n",
       "      <td>0</td>\n",
       "      <td>1</td>\n",
       "      <td>0</td>\n",
       "      <td>0.0</td>\n",
       "      <td>0</td>\n",
       "      <td>1</td>\n",
       "      <td>0.0</td>\n",
       "    </tr>\n",
       "    <tr>\n",
       "      <th>1</th>\n",
       "      <td>F00000003</td>\n",
       "      <td>209</td>\n",
       "      <td>1</td>\n",
       "      <td>0</td>\n",
       "      <td>1</td>\n",
       "      <td>0</td>\n",
       "      <td>0.0</td>\n",
       "      <td>0</td>\n",
       "      <td>2</td>\n",
       "      <td>1.0</td>\n",
       "    </tr>\n",
       "    <tr>\n",
       "      <th>2</th>\n",
       "      <td>F00000004</td>\n",
       "      <td>257</td>\n",
       "      <td>1</td>\n",
       "      <td>0</td>\n",
       "      <td>1</td>\n",
       "      <td>0</td>\n",
       "      <td>0.0</td>\n",
       "      <td>0</td>\n",
       "      <td>2</td>\n",
       "      <td>1.0</td>\n",
       "    </tr>\n",
       "    <tr>\n",
       "      <th>3</th>\n",
       "      <td>F00000005</td>\n",
       "      <td>257</td>\n",
       "      <td>1</td>\n",
       "      <td>1</td>\n",
       "      <td>1</td>\n",
       "      <td>0</td>\n",
       "      <td>0.0</td>\n",
       "      <td>0</td>\n",
       "      <td>2</td>\n",
       "      <td>1.0</td>\n",
       "    </tr>\n",
       "    <tr>\n",
       "      <th>4</th>\n",
       "      <td>F00000006</td>\n",
       "      <td>342</td>\n",
       "      <td>1</td>\n",
       "      <td>0</td>\n",
       "      <td>1</td>\n",
       "      <td>0</td>\n",
       "      <td>0.0</td>\n",
       "      <td>0</td>\n",
       "      <td>2</td>\n",
       "      <td>1.0</td>\n",
       "    </tr>\n",
       "    <tr>\n",
       "      <th>...</th>\n",
       "      <td>...</td>\n",
       "      <td>...</td>\n",
       "      <td>...</td>\n",
       "      <td>...</td>\n",
       "      <td>...</td>\n",
       "      <td>...</td>\n",
       "      <td>...</td>\n",
       "      <td>...</td>\n",
       "      <td>...</td>\n",
       "      <td>...</td>\n",
       "    </tr>\n",
       "    <tr>\n",
       "      <th>1194</th>\n",
       "      <td>F00003133</td>\n",
       "      <td>1132</td>\n",
       "      <td>0</td>\n",
       "      <td>1</td>\n",
       "      <td>2</td>\n",
       "      <td>40</td>\n",
       "      <td>34.0</td>\n",
       "      <td>7</td>\n",
       "      <td>3</td>\n",
       "      <td>NaN</td>\n",
       "    </tr>\n",
       "    <tr>\n",
       "      <th>1195</th>\n",
       "      <td>F00003135</td>\n",
       "      <td>1132</td>\n",
       "      <td>0</td>\n",
       "      <td>1</td>\n",
       "      <td>2</td>\n",
       "      <td>40</td>\n",
       "      <td>25.0</td>\n",
       "      <td>3</td>\n",
       "      <td>1</td>\n",
       "      <td>NaN</td>\n",
       "    </tr>\n",
       "    <tr>\n",
       "      <th>1196</th>\n",
       "      <td>F00003138</td>\n",
       "      <td>1132</td>\n",
       "      <td>0</td>\n",
       "      <td>1</td>\n",
       "      <td>2</td>\n",
       "      <td>20</td>\n",
       "      <td>13.0</td>\n",
       "      <td>23</td>\n",
       "      <td>1</td>\n",
       "      <td>NaN</td>\n",
       "    </tr>\n",
       "    <tr>\n",
       "      <th>1197</th>\n",
       "      <td>F00003149</td>\n",
       "      <td>1212</td>\n",
       "      <td>0</td>\n",
       "      <td>1</td>\n",
       "      <td>2</td>\n",
       "      <td>10</td>\n",
       "      <td>35.0</td>\n",
       "      <td>5</td>\n",
       "      <td>1</td>\n",
       "      <td>NaN</td>\n",
       "    </tr>\n",
       "    <tr>\n",
       "      <th>1198</th>\n",
       "      <td>F00003150</td>\n",
       "      <td>1212</td>\n",
       "      <td>0</td>\n",
       "      <td>1</td>\n",
       "      <td>2</td>\n",
       "      <td>15</td>\n",
       "      <td>NaN</td>\n",
       "      <td>20</td>\n",
       "      <td>3</td>\n",
       "      <td>NaN</td>\n",
       "    </tr>\n",
       "  </tbody>\n",
       "</table>\n",
       "<p>5798 rows × 10 columns</p>\n",
       "</div>"
      ],
      "text/plain": [
       "             ID  Estimated_Insects_Count  Crop_Type  Soil_Type  \\\n",
       "0     F00000001                      188          1          0   \n",
       "1     F00000003                      209          1          0   \n",
       "2     F00000004                      257          1          0   \n",
       "3     F00000005                      257          1          1   \n",
       "4     F00000006                      342          1          0   \n",
       "...         ...                      ...        ...        ...   \n",
       "1194  F00003133                     1132          0          1   \n",
       "1195  F00003135                     1132          0          1   \n",
       "1196  F00003138                     1132          0          1   \n",
       "1197  F00003149                     1212          0          1   \n",
       "1198  F00003150                     1212          0          1   \n",
       "\n",
       "      Pesticide_Use_Category  Number_Doses_Week  Number_Weeks_Used  \\\n",
       "0                          1                  0                0.0   \n",
       "1                          1                  0                0.0   \n",
       "2                          1                  0                0.0   \n",
       "3                          1                  0                0.0   \n",
       "4                          1                  0                0.0   \n",
       "...                      ...                ...                ...   \n",
       "1194                       2                 40               34.0   \n",
       "1195                       2                 40               25.0   \n",
       "1196                       2                 20               13.0   \n",
       "1197                       2                 10               35.0   \n",
       "1198                       2                 15                NaN   \n",
       "\n",
       "      Number_Weeks_Quit  Season  Crop_Damage  \n",
       "0                     0       1          0.0  \n",
       "1                     0       2          1.0  \n",
       "2                     0       2          1.0  \n",
       "3                     0       2          1.0  \n",
       "4                     0       2          1.0  \n",
       "...                 ...     ...          ...  \n",
       "1194                  7       3          NaN  \n",
       "1195                  3       1          NaN  \n",
       "1196                 23       1          NaN  \n",
       "1197                  5       1          NaN  \n",
       "1198                 20       3          NaN  \n",
       "\n",
       "[5798 rows x 10 columns]"
      ]
     },
     "execution_count": 7,
     "metadata": {},
     "output_type": "execute_result"
    }
   ],
   "source": [
    "# Read the  dataset\n",
    "df"
   ]
  },
  {
   "cell_type": "code",
   "execution_count": 8,
   "metadata": {},
   "outputs": [
    {
     "data": {
      "text/plain": [
       "(5798, 10)"
      ]
     },
     "execution_count": 8,
     "metadata": {},
     "output_type": "execute_result"
    }
   ],
   "source": [
    "# shaping the data\n",
    "df.shape"
   ]
  },
  {
   "cell_type": "code",
   "execution_count": 9,
   "metadata": {},
   "outputs": [
    {
     "data": {
      "text/html": [
       "<div>\n",
       "<style scoped>\n",
       "    .dataframe tbody tr th:only-of-type {\n",
       "        vertical-align: middle;\n",
       "    }\n",
       "\n",
       "    .dataframe tbody tr th {\n",
       "        vertical-align: top;\n",
       "    }\n",
       "\n",
       "    .dataframe thead th {\n",
       "        text-align: right;\n",
       "    }\n",
       "</style>\n",
       "<table border=\"1\" class=\"dataframe\">\n",
       "  <thead>\n",
       "    <tr style=\"text-align: right;\">\n",
       "      <th></th>\n",
       "      <th>ID</th>\n",
       "      <th>Estimated_Insects_Count</th>\n",
       "      <th>Crop_Type</th>\n",
       "      <th>Soil_Type</th>\n",
       "      <th>Pesticide_Use_Category</th>\n",
       "      <th>Number_Doses_Week</th>\n",
       "      <th>Number_Weeks_Used</th>\n",
       "      <th>Number_Weeks_Quit</th>\n",
       "      <th>Season</th>\n",
       "      <th>Crop_Damage</th>\n",
       "    </tr>\n",
       "  </thead>\n",
       "  <tbody>\n",
       "    <tr>\n",
       "      <th>0</th>\n",
       "      <td>F00000001</td>\n",
       "      <td>188</td>\n",
       "      <td>1</td>\n",
       "      <td>0</td>\n",
       "      <td>1</td>\n",
       "      <td>0</td>\n",
       "      <td>0.0</td>\n",
       "      <td>0</td>\n",
       "      <td>1</td>\n",
       "      <td>0.0</td>\n",
       "    </tr>\n",
       "    <tr>\n",
       "      <th>1</th>\n",
       "      <td>F00000003</td>\n",
       "      <td>209</td>\n",
       "      <td>1</td>\n",
       "      <td>0</td>\n",
       "      <td>1</td>\n",
       "      <td>0</td>\n",
       "      <td>0.0</td>\n",
       "      <td>0</td>\n",
       "      <td>2</td>\n",
       "      <td>1.0</td>\n",
       "    </tr>\n",
       "    <tr>\n",
       "      <th>2</th>\n",
       "      <td>F00000004</td>\n",
       "      <td>257</td>\n",
       "      <td>1</td>\n",
       "      <td>0</td>\n",
       "      <td>1</td>\n",
       "      <td>0</td>\n",
       "      <td>0.0</td>\n",
       "      <td>0</td>\n",
       "      <td>2</td>\n",
       "      <td>1.0</td>\n",
       "    </tr>\n",
       "    <tr>\n",
       "      <th>3</th>\n",
       "      <td>F00000005</td>\n",
       "      <td>257</td>\n",
       "      <td>1</td>\n",
       "      <td>1</td>\n",
       "      <td>1</td>\n",
       "      <td>0</td>\n",
       "      <td>0.0</td>\n",
       "      <td>0</td>\n",
       "      <td>2</td>\n",
       "      <td>1.0</td>\n",
       "    </tr>\n",
       "    <tr>\n",
       "      <th>4</th>\n",
       "      <td>F00000006</td>\n",
       "      <td>342</td>\n",
       "      <td>1</td>\n",
       "      <td>0</td>\n",
       "      <td>1</td>\n",
       "      <td>0</td>\n",
       "      <td>0.0</td>\n",
       "      <td>0</td>\n",
       "      <td>2</td>\n",
       "      <td>1.0</td>\n",
       "    </tr>\n",
       "  </tbody>\n",
       "</table>\n",
       "</div>"
      ],
      "text/plain": [
       "          ID  Estimated_Insects_Count  Crop_Type  Soil_Type  \\\n",
       "0  F00000001                      188          1          0   \n",
       "1  F00000003                      209          1          0   \n",
       "2  F00000004                      257          1          0   \n",
       "3  F00000005                      257          1          1   \n",
       "4  F00000006                      342          1          0   \n",
       "\n",
       "   Pesticide_Use_Category  Number_Doses_Week  Number_Weeks_Used  \\\n",
       "0                       1                  0                0.0   \n",
       "1                       1                  0                0.0   \n",
       "2                       1                  0                0.0   \n",
       "3                       1                  0                0.0   \n",
       "4                       1                  0                0.0   \n",
       "\n",
       "   Number_Weeks_Quit  Season  Crop_Damage  \n",
       "0                  0       1          0.0  \n",
       "1                  0       2          1.0  \n",
       "2                  0       2          1.0  \n",
       "3                  0       2          1.0  \n",
       "4                  0       2          1.0  "
      ]
     },
     "execution_count": 9,
     "metadata": {},
     "output_type": "execute_result"
    }
   ],
   "source": [
    "# heading the data\n",
    "df.head()"
   ]
  },
  {
   "cell_type": "code",
   "execution_count": 10,
   "metadata": {},
   "outputs": [
    {
     "data": {
      "text/html": [
       "<div>\n",
       "<style scoped>\n",
       "    .dataframe tbody tr th:only-of-type {\n",
       "        vertical-align: middle;\n",
       "    }\n",
       "\n",
       "    .dataframe tbody tr th {\n",
       "        vertical-align: top;\n",
       "    }\n",
       "\n",
       "    .dataframe thead th {\n",
       "        text-align: right;\n",
       "    }\n",
       "</style>\n",
       "<table border=\"1\" class=\"dataframe\">\n",
       "  <thead>\n",
       "    <tr style=\"text-align: right;\">\n",
       "      <th></th>\n",
       "      <th>ID</th>\n",
       "      <th>Estimated_Insects_Count</th>\n",
       "      <th>Crop_Type</th>\n",
       "      <th>Soil_Type</th>\n",
       "      <th>Pesticide_Use_Category</th>\n",
       "      <th>Number_Doses_Week</th>\n",
       "      <th>Number_Weeks_Used</th>\n",
       "      <th>Number_Weeks_Quit</th>\n",
       "      <th>Season</th>\n",
       "      <th>Crop_Damage</th>\n",
       "    </tr>\n",
       "  </thead>\n",
       "  <tbody>\n",
       "    <tr>\n",
       "      <th>1194</th>\n",
       "      <td>F00003133</td>\n",
       "      <td>1132</td>\n",
       "      <td>0</td>\n",
       "      <td>1</td>\n",
       "      <td>2</td>\n",
       "      <td>40</td>\n",
       "      <td>34.0</td>\n",
       "      <td>7</td>\n",
       "      <td>3</td>\n",
       "      <td>NaN</td>\n",
       "    </tr>\n",
       "    <tr>\n",
       "      <th>1195</th>\n",
       "      <td>F00003135</td>\n",
       "      <td>1132</td>\n",
       "      <td>0</td>\n",
       "      <td>1</td>\n",
       "      <td>2</td>\n",
       "      <td>40</td>\n",
       "      <td>25.0</td>\n",
       "      <td>3</td>\n",
       "      <td>1</td>\n",
       "      <td>NaN</td>\n",
       "    </tr>\n",
       "    <tr>\n",
       "      <th>1196</th>\n",
       "      <td>F00003138</td>\n",
       "      <td>1132</td>\n",
       "      <td>0</td>\n",
       "      <td>1</td>\n",
       "      <td>2</td>\n",
       "      <td>20</td>\n",
       "      <td>13.0</td>\n",
       "      <td>23</td>\n",
       "      <td>1</td>\n",
       "      <td>NaN</td>\n",
       "    </tr>\n",
       "    <tr>\n",
       "      <th>1197</th>\n",
       "      <td>F00003149</td>\n",
       "      <td>1212</td>\n",
       "      <td>0</td>\n",
       "      <td>1</td>\n",
       "      <td>2</td>\n",
       "      <td>10</td>\n",
       "      <td>35.0</td>\n",
       "      <td>5</td>\n",
       "      <td>1</td>\n",
       "      <td>NaN</td>\n",
       "    </tr>\n",
       "    <tr>\n",
       "      <th>1198</th>\n",
       "      <td>F00003150</td>\n",
       "      <td>1212</td>\n",
       "      <td>0</td>\n",
       "      <td>1</td>\n",
       "      <td>2</td>\n",
       "      <td>15</td>\n",
       "      <td>NaN</td>\n",
       "      <td>20</td>\n",
       "      <td>3</td>\n",
       "      <td>NaN</td>\n",
       "    </tr>\n",
       "  </tbody>\n",
       "</table>\n",
       "</div>"
      ],
      "text/plain": [
       "             ID  Estimated_Insects_Count  Crop_Type  Soil_Type  \\\n",
       "1194  F00003133                     1132          0          1   \n",
       "1195  F00003135                     1132          0          1   \n",
       "1196  F00003138                     1132          0          1   \n",
       "1197  F00003149                     1212          0          1   \n",
       "1198  F00003150                     1212          0          1   \n",
       "\n",
       "      Pesticide_Use_Category  Number_Doses_Week  Number_Weeks_Used  \\\n",
       "1194                       2                 40               34.0   \n",
       "1195                       2                 40               25.0   \n",
       "1196                       2                 20               13.0   \n",
       "1197                       2                 10               35.0   \n",
       "1198                       2                 15                NaN   \n",
       "\n",
       "      Number_Weeks_Quit  Season  Crop_Damage  \n",
       "1194                  7       3          NaN  \n",
       "1195                  3       1          NaN  \n",
       "1196                 23       1          NaN  \n",
       "1197                  5       1          NaN  \n",
       "1198                 20       3          NaN  "
      ]
     },
     "execution_count": 10,
     "metadata": {},
     "output_type": "execute_result"
    }
   ],
   "source": [
    "# tail of the dataset\n",
    "df.tail()"
   ]
  },
  {
   "cell_type": "code",
   "execution_count": 11,
   "metadata": {},
   "outputs": [
    {
     "data": {
      "text/plain": [
       "ID                            0\n",
       "Estimated_Insects_Count       0\n",
       "Crop_Type                     0\n",
       "Soil_Type                     0\n",
       "Pesticide_Use_Category        0\n",
       "Number_Doses_Week             0\n",
       "Number_Weeks_Used           561\n",
       "Number_Weeks_Quit             0\n",
       "Season                        0\n",
       "Crop_Damage                1199\n",
       "dtype: int64"
      ]
     },
     "execution_count": 11,
     "metadata": {},
     "output_type": "execute_result"
    }
   ],
   "source": [
    "# finding the null values\n",
    "df.isnull().sum()"
   ]
  },
  {
   "cell_type": "code",
   "execution_count": 12,
   "metadata": {},
   "outputs": [],
   "source": [
    "# droping the null values\n",
    "df3=df.dropna()"
   ]
  },
  {
   "cell_type": "code",
   "execution_count": 13,
   "metadata": {},
   "outputs": [
    {
     "data": {
      "text/html": [
       "<div>\n",
       "<style scoped>\n",
       "    .dataframe tbody tr th:only-of-type {\n",
       "        vertical-align: middle;\n",
       "    }\n",
       "\n",
       "    .dataframe tbody tr th {\n",
       "        vertical-align: top;\n",
       "    }\n",
       "\n",
       "    .dataframe thead th {\n",
       "        text-align: right;\n",
       "    }\n",
       "</style>\n",
       "<table border=\"1\" class=\"dataframe\">\n",
       "  <thead>\n",
       "    <tr style=\"text-align: right;\">\n",
       "      <th></th>\n",
       "      <th>ID</th>\n",
       "      <th>Estimated_Insects_Count</th>\n",
       "      <th>Crop_Type</th>\n",
       "      <th>Soil_Type</th>\n",
       "      <th>Pesticide_Use_Category</th>\n",
       "      <th>Number_Doses_Week</th>\n",
       "      <th>Number_Weeks_Used</th>\n",
       "      <th>Number_Weeks_Quit</th>\n",
       "      <th>Season</th>\n",
       "      <th>Crop_Damage</th>\n",
       "    </tr>\n",
       "  </thead>\n",
       "  <tbody>\n",
       "    <tr>\n",
       "      <th>0</th>\n",
       "      <td>F00000001</td>\n",
       "      <td>188</td>\n",
       "      <td>1</td>\n",
       "      <td>0</td>\n",
       "      <td>1</td>\n",
       "      <td>0</td>\n",
       "      <td>0.0</td>\n",
       "      <td>0</td>\n",
       "      <td>1</td>\n",
       "      <td>0.0</td>\n",
       "    </tr>\n",
       "    <tr>\n",
       "      <th>1</th>\n",
       "      <td>F00000003</td>\n",
       "      <td>209</td>\n",
       "      <td>1</td>\n",
       "      <td>0</td>\n",
       "      <td>1</td>\n",
       "      <td>0</td>\n",
       "      <td>0.0</td>\n",
       "      <td>0</td>\n",
       "      <td>2</td>\n",
       "      <td>1.0</td>\n",
       "    </tr>\n",
       "    <tr>\n",
       "      <th>2</th>\n",
       "      <td>F00000004</td>\n",
       "      <td>257</td>\n",
       "      <td>1</td>\n",
       "      <td>0</td>\n",
       "      <td>1</td>\n",
       "      <td>0</td>\n",
       "      <td>0.0</td>\n",
       "      <td>0</td>\n",
       "      <td>2</td>\n",
       "      <td>1.0</td>\n",
       "    </tr>\n",
       "    <tr>\n",
       "      <th>3</th>\n",
       "      <td>F00000005</td>\n",
       "      <td>257</td>\n",
       "      <td>1</td>\n",
       "      <td>1</td>\n",
       "      <td>1</td>\n",
       "      <td>0</td>\n",
       "      <td>0.0</td>\n",
       "      <td>0</td>\n",
       "      <td>2</td>\n",
       "      <td>1.0</td>\n",
       "    </tr>\n",
       "    <tr>\n",
       "      <th>4</th>\n",
       "      <td>F00000006</td>\n",
       "      <td>342</td>\n",
       "      <td>1</td>\n",
       "      <td>0</td>\n",
       "      <td>1</td>\n",
       "      <td>0</td>\n",
       "      <td>0.0</td>\n",
       "      <td>0</td>\n",
       "      <td>2</td>\n",
       "      <td>1.0</td>\n",
       "    </tr>\n",
       "    <tr>\n",
       "      <th>...</th>\n",
       "      <td>...</td>\n",
       "      <td>...</td>\n",
       "      <td>...</td>\n",
       "      <td>...</td>\n",
       "      <td>...</td>\n",
       "      <td>...</td>\n",
       "      <td>...</td>\n",
       "      <td>...</td>\n",
       "      <td>...</td>\n",
       "      <td>...</td>\n",
       "    </tr>\n",
       "    <tr>\n",
       "      <th>4593</th>\n",
       "      <td>F00008077</td>\n",
       "      <td>2138</td>\n",
       "      <td>0</td>\n",
       "      <td>1</td>\n",
       "      <td>2</td>\n",
       "      <td>60</td>\n",
       "      <td>47.0</td>\n",
       "      <td>6</td>\n",
       "      <td>3</td>\n",
       "      <td>0.0</td>\n",
       "    </tr>\n",
       "    <tr>\n",
       "      <th>4595</th>\n",
       "      <td>F00008079</td>\n",
       "      <td>2139</td>\n",
       "      <td>0</td>\n",
       "      <td>1</td>\n",
       "      <td>2</td>\n",
       "      <td>30</td>\n",
       "      <td>47.0</td>\n",
       "      <td>2</td>\n",
       "      <td>1</td>\n",
       "      <td>1.0</td>\n",
       "    </tr>\n",
       "    <tr>\n",
       "      <th>4596</th>\n",
       "      <td>F00008080</td>\n",
       "      <td>2267</td>\n",
       "      <td>0</td>\n",
       "      <td>1</td>\n",
       "      <td>2</td>\n",
       "      <td>10</td>\n",
       "      <td>7.0</td>\n",
       "      <td>27</td>\n",
       "      <td>2</td>\n",
       "      <td>0.0</td>\n",
       "    </tr>\n",
       "    <tr>\n",
       "      <th>4597</th>\n",
       "      <td>F00008082</td>\n",
       "      <td>2267</td>\n",
       "      <td>0</td>\n",
       "      <td>1</td>\n",
       "      <td>2</td>\n",
       "      <td>10</td>\n",
       "      <td>20.0</td>\n",
       "      <td>24</td>\n",
       "      <td>2</td>\n",
       "      <td>0.0</td>\n",
       "    </tr>\n",
       "    <tr>\n",
       "      <th>4598</th>\n",
       "      <td>F00008083</td>\n",
       "      <td>2267</td>\n",
       "      <td>0</td>\n",
       "      <td>1</td>\n",
       "      <td>2</td>\n",
       "      <td>10</td>\n",
       "      <td>33.0</td>\n",
       "      <td>17</td>\n",
       "      <td>2</td>\n",
       "      <td>0.0</td>\n",
       "    </tr>\n",
       "  </tbody>\n",
       "</table>\n",
       "<p>4157 rows × 10 columns</p>\n",
       "</div>"
      ],
      "text/plain": [
       "             ID  Estimated_Insects_Count  Crop_Type  Soil_Type  \\\n",
       "0     F00000001                      188          1          0   \n",
       "1     F00000003                      209          1          0   \n",
       "2     F00000004                      257          1          0   \n",
       "3     F00000005                      257          1          1   \n",
       "4     F00000006                      342          1          0   \n",
       "...         ...                      ...        ...        ...   \n",
       "4593  F00008077                     2138          0          1   \n",
       "4595  F00008079                     2139          0          1   \n",
       "4596  F00008080                     2267          0          1   \n",
       "4597  F00008082                     2267          0          1   \n",
       "4598  F00008083                     2267          0          1   \n",
       "\n",
       "      Pesticide_Use_Category  Number_Doses_Week  Number_Weeks_Used  \\\n",
       "0                          1                  0                0.0   \n",
       "1                          1                  0                0.0   \n",
       "2                          1                  0                0.0   \n",
       "3                          1                  0                0.0   \n",
       "4                          1                  0                0.0   \n",
       "...                      ...                ...                ...   \n",
       "4593                       2                 60               47.0   \n",
       "4595                       2                 30               47.0   \n",
       "4596                       2                 10                7.0   \n",
       "4597                       2                 10               20.0   \n",
       "4598                       2                 10               33.0   \n",
       "\n",
       "      Number_Weeks_Quit  Season  Crop_Damage  \n",
       "0                     0       1          0.0  \n",
       "1                     0       2          1.0  \n",
       "2                     0       2          1.0  \n",
       "3                     0       2          1.0  \n",
       "4                     0       2          1.0  \n",
       "...                 ...     ...          ...  \n",
       "4593                  6       3          0.0  \n",
       "4595                  2       1          1.0  \n",
       "4596                 27       2          0.0  \n",
       "4597                 24       2          0.0  \n",
       "4598                 17       2          0.0  \n",
       "\n",
       "[4157 rows x 10 columns]"
      ]
     },
     "execution_count": 13,
     "metadata": {},
     "output_type": "execute_result"
    }
   ],
   "source": [
    "# Read the  dataset\n",
    "df3"
   ]
  },
  {
   "cell_type": "code",
   "execution_count": 14,
   "metadata": {},
   "outputs": [
    {
     "name": "stdout",
     "output_type": "stream",
     "text": [
      "<class 'pandas.core.frame.DataFrame'>\n",
      "Int64Index: 4157 entries, 0 to 4598\n",
      "Data columns (total 10 columns):\n",
      " #   Column                   Non-Null Count  Dtype  \n",
      "---  ------                   --------------  -----  \n",
      " 0   ID                       4157 non-null   object \n",
      " 1   Estimated_Insects_Count  4157 non-null   int64  \n",
      " 2   Crop_Type                4157 non-null   int64  \n",
      " 3   Soil_Type                4157 non-null   int64  \n",
      " 4   Pesticide_Use_Category   4157 non-null   int64  \n",
      " 5   Number_Doses_Week        4157 non-null   int64  \n",
      " 6   Number_Weeks_Used        4157 non-null   float64\n",
      " 7   Number_Weeks_Quit        4157 non-null   int64  \n",
      " 8   Season                   4157 non-null   int64  \n",
      " 9   Crop_Damage              4157 non-null   float64\n",
      "dtypes: float64(2), int64(7), object(1)\n",
      "memory usage: 357.2+ KB\n"
     ]
    }
   ],
   "source": [
    "df3.info()"
   ]
  },
  {
   "cell_type": "code",
   "execution_count": 15,
   "metadata": {},
   "outputs": [
    {
     "data": {
      "text/plain": [
       "Estimated_Insects_Count        AxesSubplot(0.125,0.71587;0.133621x0.16413)\n",
       "Crop_Type                   AxesSubplot(0.285345,0.71587;0.133621x0.16413)\n",
       "Soil_Type                    AxesSubplot(0.44569,0.71587;0.133621x0.16413)\n",
       "Pesticide_Use_Category      AxesSubplot(0.606034,0.71587;0.133621x0.16413)\n",
       "Number_Doses_Week           AxesSubplot(0.766379,0.71587;0.133621x0.16413)\n",
       "Number_Weeks_Used             AxesSubplot(0.125,0.518913;0.133621x0.16413)\n",
       "Number_Weeks_Quit          AxesSubplot(0.285345,0.518913;0.133621x0.16413)\n",
       "Season                      AxesSubplot(0.44569,0.518913;0.133621x0.16413)\n",
       "Crop_Damage                AxesSubplot(0.606034,0.518913;0.133621x0.16413)\n",
       "dtype: object"
      ]
     },
     "execution_count": 15,
     "metadata": {},
     "output_type": "execute_result"
    },
    {
     "data": {
      "image/png": "[encoded data removed]",
      "text/plain": [
       "<Figure size 720x1440 with 20 Axes>"
      ]
     },
     "metadata": {
      "needs_background": "light"
     },
     "output_type": "display_data"
    }
   ],
   "source": [
    "# Finding Outliers of the data through boxplot\n",
    "df3.plot(kind='box',subplots = True, layout=(4,5),figsize = (10,20))"
   ]
  },
  {
   "cell_type": "code",
   "execution_count": 16,
   "metadata": {},
   "outputs": [
    {
     "data": {
      "text/plain": [
       "array([[<matplotlib.axes._subplots.AxesSubplot object at 0x7fc11f527d90>,\n",
       "        <matplotlib.axes._subplots.AxesSubplot object at 0x7fc12041ff10>,\n",
       "        <matplotlib.axes._subplots.AxesSubplot object at 0x7fc120591bd0>,\n",
       "        <matplotlib.axes._subplots.AxesSubplot object at 0x7fc1205d0f50>],\n",
       "       [<matplotlib.axes._subplots.AxesSubplot object at 0x7fc120605c10>,\n",
       "        <matplotlib.axes._subplots.AxesSubplot object at 0x7fc120645f90>,\n",
       "        <matplotlib.axes._subplots.AxesSubplot object at 0x7fc12067bc50>,\n",
       "        <matplotlib.axes._subplots.AxesSubplot object at 0x7fc1206bcfd0>],\n",
       "       [<matplotlib.axes._subplots.AxesSubplot object at 0x7fc1206c7110>,\n",
       "        <matplotlib.axes._subplots.AxesSubplot object at 0x7fc1206f9990>,\n",
       "        <matplotlib.axes._subplots.AxesSubplot object at 0x7fc120766cd0>,\n",
       "        <matplotlib.axes._subplots.AxesSubplot object at 0x7fc1207a6510>],\n",
       "       [<matplotlib.axes._subplots.AxesSubplot object at 0x7fc1207dbd10>,\n",
       "        <matplotlib.axes._subplots.AxesSubplot object at 0x7fc12081d550>,\n",
       "        <matplotlib.axes._subplots.AxesSubplot object at 0x7fc120851d50>,\n",
       "        <matplotlib.axes._subplots.AxesSubplot object at 0x7fc120892590>]],\n",
       "      dtype=object)"
      ]
     },
     "execution_count": 16,
     "metadata": {},
     "output_type": "execute_result"
    },
    {
     "data": {
      "image/png": "[encoded data removed]",
      "text/plain": [
       "<Figure size 1440x1440 with 16 Axes>"
      ]
     },
     "metadata": {
      "needs_background": "light"
     },
     "output_type": "display_data"
    }
   ],
   "source": [
    "# Visualizing the data through Histogram.\n",
    "df3.hist(figsize=(20,20),grid=True,layout = (4,4),bins=30)"
   ]
  },
  {
   "cell_type": "code",
   "execution_count": 17,
   "metadata": {},
   "outputs": [
    {
     "data": {
      "text/plain": [
       "<matplotlib.axes._subplots.AxesSubplot at 0x7fc1215866d0>"
      ]
     },
     "execution_count": 17,
     "metadata": {},
     "output_type": "execute_result"
    },
    {
     "data": {
      "image/png": "[encoded data removed]",
      "text/plain": [
       "<Figure size 432x288 with 1 Axes>"
      ]
     },
     "metadata": {
      "needs_background": "light"
     },
     "output_type": "display_data"
    }
   ],
   "source": [
    "# Visualizing the crop damage through violin plot.\n",
    "sns.violinplot(df3['Crop_Damage'])"
   ]
  },
  {
   "cell_type": "code",
   "execution_count": 18,
   "metadata": {},
   "outputs": [
    {
     "data": {
      "text/plain": [
       "<matplotlib.axes._subplots.AxesSubplot at 0x7fc121658c90>"
      ]
     },
     "execution_count": 18,
     "metadata": {},
     "output_type": "execute_result"
    },
    {
     "data": {
      "image/png": "[encoded data removed]",
      "text/plain": [
       "<Figure size 432x288 with 1 Axes>"
      ]
     },
     "metadata": {
      "needs_background": "light"
     },
     "output_type": "display_data"
    }
   ],
   "source": [
    "# Visualizing the estimated insects count through violin plot.\n",
    "sns.violinplot(df3['Estimated_Insects_Count'])"
   ]
  },
  {
   "cell_type": "code",
   "execution_count": 19,
   "metadata": {},
   "outputs": [
    {
     "data": {
      "text/plain": [
       "<matplotlib.axes._subplots.AxesSubplot at 0x7fc12169f910>"
      ]
     },
     "execution_count": 19,
     "metadata": {},
     "output_type": "execute_result"
    },
    {
     "data": {
      "image/png": "[encoded data removed]",
      "text/plain": [
       "<Figure size 432x288 with 1 Axes>"
      ]
     },
     "metadata": {
      "needs_background": "light"
     },
     "output_type": "display_data"
    }
   ],
   "source": [
    "# Visualizing the crop type through violin plot.\n",
    "sns.violinplot(df3['Crop_Type'])"
   ]
  },
  {
   "cell_type": "code",
   "execution_count": 20,
   "metadata": {},
   "outputs": [
    {
     "data": {
      "text/plain": [
       "<matplotlib.axes._subplots.AxesSubplot at 0x7fc11de50fd0>"
      ]
     },
     "execution_count": 20,
     "metadata": {},
     "output_type": "execute_result"
    },
    {
     "data": {
      "image/png": "[encoded data removed]",
      "text/plain": [
       "<Figure size 432x288 with 1 Axes>"
      ]
     },
     "metadata": {
      "needs_background": "light"
     },
     "output_type": "display_data"
    }
   ],
   "source": [
    "# Visualizing the pesticide use category through violin plot.\n",
    "sns.violinplot(df3['Pesticide_Use_Category'])"
   ]
  },
  {
   "cell_type": "code",
   "execution_count": 21,
   "metadata": {},
   "outputs": [
    {
     "data": {
      "text/plain": [
       "<matplotlib.axes._subplots.AxesSubplot at 0x7fc1219a8610>"
      ]
     },
     "execution_count": 21,
     "metadata": {},
     "output_type": "execute_result"
    },
    {
     "data": {
      "image/png": "[encoded data removed]",
      "text/plain": [
       "<Figure size 432x288 with 1 Axes>"
      ]
     },
     "metadata": {
      "needs_background": "light"
     },
     "output_type": "display_data"
    }
   ],
   "source": [
    "# Visualizing the number doses week through violin plot.\n",
    "sns.violinplot(df3['Number_Doses_Week'])"
   ]
  },
  {
   "cell_type": "code",
   "execution_count": 22,
   "metadata": {},
   "outputs": [
    {
     "data": {
      "text/plain": [
       "<matplotlib.axes._subplots.AxesSubplot at 0x7fc12194b910>"
      ]
     },
     "execution_count": 22,
     "metadata": {},
     "output_type": "execute_result"
    },
    {
     "data": {
      "image/png": "[encoded data removed]",
      "text/plain": [
       "<Figure size 432x288 with 1 Axes>"
      ]
     },
     "metadata": {
      "needs_background": "light"
     },
     "output_type": "display_data"
    }
   ],
   "source": [
    "# Visualizing the Season through violin plot.\n",
    "sns.violinplot(df3['Season'])"
   ]
  },
  {
   "cell_type": "code",
   "execution_count": 23,
   "metadata": {},
   "outputs": [
    {
     "data": {
      "image/png": "[encoded data removed]",
      "text/plain": [
       "<Figure size 360x360 with 1 Axes>"
      ]
     },
     "metadata": {
      "needs_background": "light"
     },
     "output_type": "display_data"
    }
   ],
   "source": [
    "# visualizing the Crop damage and Crop Type through barplot.\n",
    "plt.figure(figsize=(5,5))\n",
    "sns.barplot(df3['Crop_Damage'],df3['Crop_Type'])\n",
    "plt.show()"
   ]
  },
  {
   "cell_type": "code",
   "execution_count": 24,
   "metadata": {},
   "outputs": [
    {
     "data": {
      "image/png": "[encoded data removed]",
      "text/plain": [
       "<Figure size 360x360 with 1 Axes>"
      ]
     },
     "metadata": {
      "needs_background": "light"
     },
     "output_type": "display_data"
    }
   ],
   "source": [
    "# visualizing the Season and Pesticide Use Category through barplot.\n",
    "plt.figure(figsize=(5,5))\n",
    "sns.barplot(df3['Season'],df3['Pesticide_Use_Category'])\n",
    "plt.show()"
   ]
  },
  {
   "cell_type": "code",
   "execution_count": 25,
   "metadata": {},
   "outputs": [
    {
     "data": {
      "image/png": "[encoded data removed]",
      "text/plain": [
       "<Figure size 360x360 with 1 Axes>"
      ]
     },
     "metadata": {
      "needs_background": "light"
     },
     "output_type": "display_data"
    }
   ],
   "source": [
    "# visualizing the number doses week and number weeks used through barplot.\n",
    "plt.figure(figsize=(5,5))\n",
    "sns.barplot(df3['Number_Doses_Week'],df3['Number_Weeks_Used'])\n",
    "plt.show()"
   ]
  },
  {
   "cell_type": "code",
   "execution_count": 26,
   "metadata": {},
   "outputs": [
    {
     "data": {
      "image/png": "[encoded data removed]",
      "text/plain": [
       "<Figure size 360x360 with 1 Axes>"
      ]
     },
     "metadata": {
      "needs_background": "light"
     },
     "output_type": "display_data"
    }
   ],
   "source": [
    "# visualizing the number doses week and  number weeks quit through barplot.\n",
    "plt.figure(figsize=(5,5))\n",
    "sns.barplot(df3['Number_Doses_Week'],df3['Number_Weeks_Quit'])\n",
    "plt.show()"
   ]
  },
  {
   "cell_type": "code",
   "execution_count": 27,
   "metadata": {},
   "outputs": [
    {
     "data": {
      "image/png": "[encoded data removed]",
      "text/plain": [
       "<Figure size 360x360 with 1 Axes>"
      ]
     },
     "metadata": {
      "needs_background": "light"
     },
     "output_type": "display_data"
    }
   ],
   "source": [
    "# visualizing the number weeks used and  number weeks quit through barplot.\n",
    "plt.figure(figsize=(5,5))\n",
    "sns.barplot(df3['Number_Weeks_Used'],df3['Number_Weeks_Quit'])\n",
    "plt.show()"
   ]
  },
  {
   "cell_type": "code",
   "execution_count": 28,
   "metadata": {},
   "outputs": [
    {
     "data": {
      "image/png": "[encoded data removed]",
      "text/plain": [
       "<Figure size 360x360 with 1 Axes>"
      ]
     },
     "metadata": {
      "needs_background": "light"
     },
     "output_type": "display_data"
    }
   ],
   "source": [
    "# visualizing the Season and Crop Damage through barplot.\n",
    "plt.figure(figsize=(5,5))\n",
    "sns.barplot(df3['Season'],df3['Crop_Damage'])\n",
    "plt.show()"
   ]
  },
  {
   "cell_type": "code",
   "execution_count": 29,
   "metadata": {},
   "outputs": [
    {
     "data": {
      "image/png": "[encoded data removed]",
      "text/plain": [
       "<Figure size 360x360 with 1 Axes>"
      ]
     },
     "metadata": {
      "needs_background": "light"
     },
     "output_type": "display_data"
    }
   ],
   "source": [
    "# visualizing the Estimated insects count and Crop Damage through barplot.\n",
    "plt.figure(figsize=(5,5))\n",
    "sns.barplot(df3['Estimated_Insects_Count'],df3['Crop_Damage'])\n",
    "plt.show()"
   ]
  },
  {
   "cell_type": "code",
   "execution_count": 30,
   "metadata": {},
   "outputs": [
    {
     "data": {
      "image/png": "[encoded data removed]",
      "text/plain": [
       "<Figure size 432x288 with 1 Axes>"
      ]
     },
     "metadata": {
      "needs_background": "light"
     },
     "output_type": "display_data"
    }
   ],
   "source": [
    "# visualizing the Soil type through distribution plot.\n",
    "sns.distplot(df3['Soil_Type'])\n",
    "plt.show()"
   ]
  },
  {
   "cell_type": "code",
   "execution_count": 31,
   "metadata": {},
   "outputs": [
    {
     "data": {
      "image/png": "[encoded data removed]",
      "text/plain": [
       "<Figure size 432x288 with 1 Axes>"
      ]
     },
     "metadata": {
      "needs_background": "light"
     },
     "output_type": "display_data"
    }
   ],
   "source": [
    "# visualizing the Number Weeks Used through distribution plot.\n",
    "sns.distplot(df3['Number_Weeks_Used'])\n",
    "plt.show()"
   ]
  },
  {
   "cell_type": "code",
   "execution_count": 32,
   "metadata": {},
   "outputs": [
    {
     "data": {
      "image/png": "[encoded data removed]",
      "text/plain": [
       "<Figure size 432x288 with 1 Axes>"
      ]
     },
     "metadata": {
      "needs_background": "light"
     },
     "output_type": "display_data"
    }
   ],
   "source": [
    "# visualizing the Season through distribution plot.\n",
    "sns.distplot(df3['Season'])\n",
    "plt.show()"
   ]
  },
  {
   "cell_type": "code",
   "execution_count": 33,
   "metadata": {},
   "outputs": [
    {
     "data": {
      "image/png": "[encoded data removed]",
      "text/plain": [
       "<Figure size 432x288 with 1 Axes>"
      ]
     },
     "metadata": {
      "needs_background": "light"
     },
     "output_type": "display_data"
    }
   ],
   "source": [
    "# visualizing the Pesticide Use Category through distribution plot.\n",
    "sns.distplot(df3['Pesticide_Use_Category'])\n",
    "plt.show()"
   ]
  },
  {
   "cell_type": "code",
   "execution_count": 34,
   "metadata": {},
   "outputs": [
    {
     "data": {
      "image/png": "[encoded data removed]",
      "text/plain": [
       "<Figure size 432x288 with 1 Axes>"
      ]
     },
     "metadata": {
      "needs_background": "light"
     },
     "output_type": "display_data"
    }
   ],
   "source": [
    "# visualizing the Estimated Insects count through distribution plot.\n",
    "sns.distplot(df3['Estimated_Insects_Count'])\n",
    "plt.show()"
   ]
  },
  {
   "cell_type": "code",
   "execution_count": 35,
   "metadata": {},
   "outputs": [
    {
     "data": {
      "image/png": "[encoded data removed]",
      "text/plain": [
       "<Figure size 432x288 with 1 Axes>"
      ]
     },
     "metadata": {
      "needs_background": "light"
     },
     "output_type": "display_data"
    }
   ],
   "source": [
    "# visualizing the Number doses week through distribution plot.\n",
    "sns.distplot(df3['Number_Doses_Week'])\n",
    "plt.show()"
   ]
  },
  {
   "cell_type": "code",
   "execution_count": 36,
   "metadata": {},
   "outputs": [
    {
     "data": {
      "image/png": "[encoded data removed]",
      "text/plain": [
       "<Figure size 432x288 with 1 Axes>"
      ]
     },
     "metadata": {
      "needs_background": "light"
     },
     "output_type": "display_data"
    }
   ],
   "source": [
    "# visualizing the Number weeks Quit through distribution plot.\n",
    "sns.distplot(df3['Number_Weeks_Quit'])\n",
    "plt.show()"
   ]
  },
  {
   "cell_type": "code",
   "execution_count": 37,
   "metadata": {},
   "outputs": [
    {
     "data": {
      "text/plain": [
       "ID                         0\n",
       "Estimated_Insects_Count    0\n",
       "Crop_Type                  0\n",
       "Soil_Type                  0\n",
       "Pesticide_Use_Category     0\n",
       "Number_Doses_Week          0\n",
       "Number_Weeks_Used          0\n",
       "Number_Weeks_Quit          0\n",
       "Season                     0\n",
       "Crop_Damage                0\n",
       "dtype: int64"
      ]
     },
     "execution_count": 37,
     "metadata": {},
     "output_type": "execute_result"
    }
   ],
   "source": [
    "# finding the null values\n",
    "df3.isnull().sum()"
   ]
  },
  {
   "cell_type": "code",
   "execution_count": 38,
   "metadata": {},
   "outputs": [],
   "source": [
    "# deleting the row through iloc functions\n",
    "df4=df3.iloc[:,1:]"
   ]
  },
  {
   "cell_type": "code",
   "execution_count": 39,
   "metadata": {},
   "outputs": [
    {
     "data": {
      "text/html": [
       "<div>\n",
       "<style scoped>\n",
       "    .dataframe tbody tr th:only-of-type {\n",
       "        vertical-align: middle;\n",
       "    }\n",
       "\n",
       "    .dataframe tbody tr th {\n",
       "        vertical-align: top;\n",
       "    }\n",
       "\n",
       "    .dataframe thead th {\n",
       "        text-align: right;\n",
       "    }\n",
       "</style>\n",
       "<table border=\"1\" class=\"dataframe\">\n",
       "  <thead>\n",
       "    <tr style=\"text-align: right;\">\n",
       "      <th></th>\n",
       "      <th>Estimated_Insects_Count</th>\n",
       "      <th>Crop_Type</th>\n",
       "      <th>Soil_Type</th>\n",
       "      <th>Pesticide_Use_Category</th>\n",
       "      <th>Number_Doses_Week</th>\n",
       "      <th>Number_Weeks_Used</th>\n",
       "      <th>Number_Weeks_Quit</th>\n",
       "      <th>Season</th>\n",
       "      <th>Crop_Damage</th>\n",
       "    </tr>\n",
       "  </thead>\n",
       "  <tbody>\n",
       "    <tr>\n",
       "      <th>0</th>\n",
       "      <td>188</td>\n",
       "      <td>1</td>\n",
       "      <td>0</td>\n",
       "      <td>1</td>\n",
       "      <td>0</td>\n",
       "      <td>0.0</td>\n",
       "      <td>0</td>\n",
       "      <td>1</td>\n",
       "      <td>0.0</td>\n",
       "    </tr>\n",
       "    <tr>\n",
       "      <th>1</th>\n",
       "      <td>209</td>\n",
       "      <td>1</td>\n",
       "      <td>0</td>\n",
       "      <td>1</td>\n",
       "      <td>0</td>\n",
       "      <td>0.0</td>\n",
       "      <td>0</td>\n",
       "      <td>2</td>\n",
       "      <td>1.0</td>\n",
       "    </tr>\n",
       "    <tr>\n",
       "      <th>2</th>\n",
       "      <td>257</td>\n",
       "      <td>1</td>\n",
       "      <td>0</td>\n",
       "      <td>1</td>\n",
       "      <td>0</td>\n",
       "      <td>0.0</td>\n",
       "      <td>0</td>\n",
       "      <td>2</td>\n",
       "      <td>1.0</td>\n",
       "    </tr>\n",
       "    <tr>\n",
       "      <th>3</th>\n",
       "      <td>257</td>\n",
       "      <td>1</td>\n",
       "      <td>1</td>\n",
       "      <td>1</td>\n",
       "      <td>0</td>\n",
       "      <td>0.0</td>\n",
       "      <td>0</td>\n",
       "      <td>2</td>\n",
       "      <td>1.0</td>\n",
       "    </tr>\n",
       "    <tr>\n",
       "      <th>4</th>\n",
       "      <td>342</td>\n",
       "      <td>1</td>\n",
       "      <td>0</td>\n",
       "      <td>1</td>\n",
       "      <td>0</td>\n",
       "      <td>0.0</td>\n",
       "      <td>0</td>\n",
       "      <td>2</td>\n",
       "      <td>1.0</td>\n",
       "    </tr>\n",
       "    <tr>\n",
       "      <th>...</th>\n",
       "      <td>...</td>\n",
       "      <td>...</td>\n",
       "      <td>...</td>\n",
       "      <td>...</td>\n",
       "      <td>...</td>\n",
       "      <td>...</td>\n",
       "      <td>...</td>\n",
       "      <td>...</td>\n",
       "      <td>...</td>\n",
       "    </tr>\n",
       "    <tr>\n",
       "      <th>4593</th>\n",
       "      <td>2138</td>\n",
       "      <td>0</td>\n",
       "      <td>1</td>\n",
       "      <td>2</td>\n",
       "      <td>60</td>\n",
       "      <td>47.0</td>\n",
       "      <td>6</td>\n",
       "      <td>3</td>\n",
       "      <td>0.0</td>\n",
       "    </tr>\n",
       "    <tr>\n",
       "      <th>4595</th>\n",
       "      <td>2139</td>\n",
       "      <td>0</td>\n",
       "      <td>1</td>\n",
       "      <td>2</td>\n",
       "      <td>30</td>\n",
       "      <td>47.0</td>\n",
       "      <td>2</td>\n",
       "      <td>1</td>\n",
       "      <td>1.0</td>\n",
       "    </tr>\n",
       "    <tr>\n",
       "      <th>4596</th>\n",
       "      <td>2267</td>\n",
       "      <td>0</td>\n",
       "      <td>1</td>\n",
       "      <td>2</td>\n",
       "      <td>10</td>\n",
       "      <td>7.0</td>\n",
       "      <td>27</td>\n",
       "      <td>2</td>\n",
       "      <td>0.0</td>\n",
       "    </tr>\n",
       "    <tr>\n",
       "      <th>4597</th>\n",
       "      <td>2267</td>\n",
       "      <td>0</td>\n",
       "      <td>1</td>\n",
       "      <td>2</td>\n",
       "      <td>10</td>\n",
       "      <td>20.0</td>\n",
       "      <td>24</td>\n",
       "      <td>2</td>\n",
       "      <td>0.0</td>\n",
       "    </tr>\n",
       "    <tr>\n",
       "      <th>4598</th>\n",
       "      <td>2267</td>\n",
       "      <td>0</td>\n",
       "      <td>1</td>\n",
       "      <td>2</td>\n",
       "      <td>10</td>\n",
       "      <td>33.0</td>\n",
       "      <td>17</td>\n",
       "      <td>2</td>\n",
       "      <td>0.0</td>\n",
       "    </tr>\n",
       "  </tbody>\n",
       "</table>\n",
       "<p>4157 rows × 9 columns</p>\n",
       "</div>"
      ],
      "text/plain": [
       "      Estimated_Insects_Count  Crop_Type  Soil_Type  Pesticide_Use_Category  \\\n",
       "0                         188          1          0                       1   \n",
       "1                         209          1          0                       1   \n",
       "2                         257          1          0                       1   \n",
       "3                         257          1          1                       1   \n",
       "4                         342          1          0                       1   \n",
       "...                       ...        ...        ...                     ...   \n",
       "4593                     2138          0          1                       2   \n",
       "4595                     2139          0          1                       2   \n",
       "4596                     2267          0          1                       2   \n",
       "4597                     2267          0          1                       2   \n",
       "4598                     2267          0          1                       2   \n",
       "\n",
       "      Number_Doses_Week  Number_Weeks_Used  Number_Weeks_Quit  Season  \\\n",
       "0                     0                0.0                  0       1   \n",
       "1                     0                0.0                  0       2   \n",
       "2                     0                0.0                  0       2   \n",
       "3                     0                0.0                  0       2   \n",
       "4                     0                0.0                  0       2   \n",
       "...                 ...                ...                ...     ...   \n",
       "4593                 60               47.0                  6       3   \n",
       "4595                 30               47.0                  2       1   \n",
       "4596                 10                7.0                 27       2   \n",
       "4597                 10               20.0                 24       2   \n",
       "4598                 10               33.0                 17       2   \n",
       "\n",
       "      Crop_Damage  \n",
       "0             0.0  \n",
       "1             1.0  \n",
       "2             1.0  \n",
       "3             1.0  \n",
       "4             1.0  \n",
       "...           ...  \n",
       "4593          0.0  \n",
       "4595          1.0  \n",
       "4596          0.0  \n",
       "4597          0.0  \n",
       "4598          0.0  \n",
       "\n",
       "[4157 rows x 9 columns]"
      ]
     },
     "execution_count": 39,
     "metadata": {},
     "output_type": "execute_result"
    }
   ],
   "source": [
    "# Read the  dataset\n",
    "df4"
   ]
  },
  {
   "cell_type": "code",
   "execution_count": 40,
   "metadata": {},
   "outputs": [],
   "source": [
    "# taking the values for training and testing\n",
    "x=df4.iloc[:,:]"
   ]
  },
  {
   "cell_type": "code",
   "execution_count": 41,
   "metadata": {},
   "outputs": [
    {
     "data": {
      "text/html": [
       "<div>\n",
       "<style scoped>\n",
       "    .dataframe tbody tr th:only-of-type {\n",
       "        vertical-align: middle;\n",
       "    }\n",
       "\n",
       "    .dataframe tbody tr th {\n",
       "        vertical-align: top;\n",
       "    }\n",
       "\n",
       "    .dataframe thead th {\n",
       "        text-align: right;\n",
       "    }\n",
       "</style>\n",
       "<table border=\"1\" class=\"dataframe\">\n",
       "  <thead>\n",
       "    <tr style=\"text-align: right;\">\n",
       "      <th></th>\n",
       "      <th>Estimated_Insects_Count</th>\n",
       "      <th>Crop_Type</th>\n",
       "      <th>Soil_Type</th>\n",
       "      <th>Pesticide_Use_Category</th>\n",
       "      <th>Number_Doses_Week</th>\n",
       "      <th>Number_Weeks_Used</th>\n",
       "      <th>Number_Weeks_Quit</th>\n",
       "      <th>Season</th>\n",
       "      <th>Crop_Damage</th>\n",
       "    </tr>\n",
       "  </thead>\n",
       "  <tbody>\n",
       "    <tr>\n",
       "      <th>0</th>\n",
       "      <td>188</td>\n",
       "      <td>1</td>\n",
       "      <td>0</td>\n",
       "      <td>1</td>\n",
       "      <td>0</td>\n",
       "      <td>0.0</td>\n",
       "      <td>0</td>\n",
       "      <td>1</td>\n",
       "      <td>0.0</td>\n",
       "    </tr>\n",
       "    <tr>\n",
       "      <th>1</th>\n",
       "      <td>209</td>\n",
       "      <td>1</td>\n",
       "      <td>0</td>\n",
       "      <td>1</td>\n",
       "      <td>0</td>\n",
       "      <td>0.0</td>\n",
       "      <td>0</td>\n",
       "      <td>2</td>\n",
       "      <td>1.0</td>\n",
       "    </tr>\n",
       "    <tr>\n",
       "      <th>2</th>\n",
       "      <td>257</td>\n",
       "      <td>1</td>\n",
       "      <td>0</td>\n",
       "      <td>1</td>\n",
       "      <td>0</td>\n",
       "      <td>0.0</td>\n",
       "      <td>0</td>\n",
       "      <td>2</td>\n",
       "      <td>1.0</td>\n",
       "    </tr>\n",
       "    <tr>\n",
       "      <th>3</th>\n",
       "      <td>257</td>\n",
       "      <td>1</td>\n",
       "      <td>1</td>\n",
       "      <td>1</td>\n",
       "      <td>0</td>\n",
       "      <td>0.0</td>\n",
       "      <td>0</td>\n",
       "      <td>2</td>\n",
       "      <td>1.0</td>\n",
       "    </tr>\n",
       "    <tr>\n",
       "      <th>4</th>\n",
       "      <td>342</td>\n",
       "      <td>1</td>\n",
       "      <td>0</td>\n",
       "      <td>1</td>\n",
       "      <td>0</td>\n",
       "      <td>0.0</td>\n",
       "      <td>0</td>\n",
       "      <td>2</td>\n",
       "      <td>1.0</td>\n",
       "    </tr>\n",
       "    <tr>\n",
       "      <th>...</th>\n",
       "      <td>...</td>\n",
       "      <td>...</td>\n",
       "      <td>...</td>\n",
       "      <td>...</td>\n",
       "      <td>...</td>\n",
       "      <td>...</td>\n",
       "      <td>...</td>\n",
       "      <td>...</td>\n",
       "      <td>...</td>\n",
       "    </tr>\n",
       "    <tr>\n",
       "      <th>4593</th>\n",
       "      <td>2138</td>\n",
       "      <td>0</td>\n",
       "      <td>1</td>\n",
       "      <td>2</td>\n",
       "      <td>60</td>\n",
       "      <td>47.0</td>\n",
       "      <td>6</td>\n",
       "      <td>3</td>\n",
       "      <td>0.0</td>\n",
       "    </tr>\n",
       "    <tr>\n",
       "      <th>4595</th>\n",
       "      <td>2139</td>\n",
       "      <td>0</td>\n",
       "      <td>1</td>\n",
       "      <td>2</td>\n",
       "      <td>30</td>\n",
       "      <td>47.0</td>\n",
       "      <td>2</td>\n",
       "      <td>1</td>\n",
       "      <td>1.0</td>\n",
       "    </tr>\n",
       "    <tr>\n",
       "      <th>4596</th>\n",
       "      <td>2267</td>\n",
       "      <td>0</td>\n",
       "      <td>1</td>\n",
       "      <td>2</td>\n",
       "      <td>10</td>\n",
       "      <td>7.0</td>\n",
       "      <td>27</td>\n",
       "      <td>2</td>\n",
       "      <td>0.0</td>\n",
       "    </tr>\n",
       "    <tr>\n",
       "      <th>4597</th>\n",
       "      <td>2267</td>\n",
       "      <td>0</td>\n",
       "      <td>1</td>\n",
       "      <td>2</td>\n",
       "      <td>10</td>\n",
       "      <td>20.0</td>\n",
       "      <td>24</td>\n",
       "      <td>2</td>\n",
       "      <td>0.0</td>\n",
       "    </tr>\n",
       "    <tr>\n",
       "      <th>4598</th>\n",
       "      <td>2267</td>\n",
       "      <td>0</td>\n",
       "      <td>1</td>\n",
       "      <td>2</td>\n",
       "      <td>10</td>\n",
       "      <td>33.0</td>\n",
       "      <td>17</td>\n",
       "      <td>2</td>\n",
       "      <td>0.0</td>\n",
       "    </tr>\n",
       "  </tbody>\n",
       "</table>\n",
       "<p>4157 rows × 9 columns</p>\n",
       "</div>"
      ],
      "text/plain": [
       "      Estimated_Insects_Count  Crop_Type  Soil_Type  Pesticide_Use_Category  \\\n",
       "0                         188          1          0                       1   \n",
       "1                         209          1          0                       1   \n",
       "2                         257          1          0                       1   \n",
       "3                         257          1          1                       1   \n",
       "4                         342          1          0                       1   \n",
       "...                       ...        ...        ...                     ...   \n",
       "4593                     2138          0          1                       2   \n",
       "4595                     2139          0          1                       2   \n",
       "4596                     2267          0          1                       2   \n",
       "4597                     2267          0          1                       2   \n",
       "4598                     2267          0          1                       2   \n",
       "\n",
       "      Number_Doses_Week  Number_Weeks_Used  Number_Weeks_Quit  Season  \\\n",
       "0                     0                0.0                  0       1   \n",
       "1                     0                0.0                  0       2   \n",
       "2                     0                0.0                  0       2   \n",
       "3                     0                0.0                  0       2   \n",
       "4                     0                0.0                  0       2   \n",
       "...                 ...                ...                ...     ...   \n",
       "4593                 60               47.0                  6       3   \n",
       "4595                 30               47.0                  2       1   \n",
       "4596                 10                7.0                 27       2   \n",
       "4597                 10               20.0                 24       2   \n",
       "4598                 10               33.0                 17       2   \n",
       "\n",
       "      Crop_Damage  \n",
       "0             0.0  \n",
       "1             1.0  \n",
       "2             1.0  \n",
       "3             1.0  \n",
       "4             1.0  \n",
       "...           ...  \n",
       "4593          0.0  \n",
       "4595          1.0  \n",
       "4596          0.0  \n",
       "4597          0.0  \n",
       "4598          0.0  \n",
       "\n",
       "[4157 rows x 9 columns]"
      ]
     },
     "execution_count": 41,
     "metadata": {},
     "output_type": "execute_result"
    }
   ],
   "source": [
    "x"
   ]
  },
  {
   "cell_type": "code",
   "execution_count": 42,
   "metadata": {},
   "outputs": [
    {
     "data": {
      "text/html": [
       "<div>\n",
       "<style scoped>\n",
       "    .dataframe tbody tr th:only-of-type {\n",
       "        vertical-align: middle;\n",
       "    }\n",
       "\n",
       "    .dataframe tbody tr th {\n",
       "        vertical-align: top;\n",
       "    }\n",
       "\n",
       "    .dataframe thead th {\n",
       "        text-align: right;\n",
       "    }\n",
       "</style>\n",
       "<table border=\"1\" class=\"dataframe\">\n",
       "  <thead>\n",
       "    <tr style=\"text-align: right;\">\n",
       "      <th></th>\n",
       "      <th>Crop_Damage</th>\n",
       "    </tr>\n",
       "  </thead>\n",
       "  <tbody>\n",
       "    <tr>\n",
       "      <th>0</th>\n",
       "      <td>0.0</td>\n",
       "    </tr>\n",
       "    <tr>\n",
       "      <th>1</th>\n",
       "      <td>1.0</td>\n",
       "    </tr>\n",
       "    <tr>\n",
       "      <th>2</th>\n",
       "      <td>1.0</td>\n",
       "    </tr>\n",
       "    <tr>\n",
       "      <th>3</th>\n",
       "      <td>1.0</td>\n",
       "    </tr>\n",
       "    <tr>\n",
       "      <th>4</th>\n",
       "      <td>1.0</td>\n",
       "    </tr>\n",
       "    <tr>\n",
       "      <th>...</th>\n",
       "      <td>...</td>\n",
       "    </tr>\n",
       "    <tr>\n",
       "      <th>4593</th>\n",
       "      <td>0.0</td>\n",
       "    </tr>\n",
       "    <tr>\n",
       "      <th>4595</th>\n",
       "      <td>1.0</td>\n",
       "    </tr>\n",
       "    <tr>\n",
       "      <th>4596</th>\n",
       "      <td>0.0</td>\n",
       "    </tr>\n",
       "    <tr>\n",
       "      <th>4597</th>\n",
       "      <td>0.0</td>\n",
       "    </tr>\n",
       "    <tr>\n",
       "      <th>4598</th>\n",
       "      <td>0.0</td>\n",
       "    </tr>\n",
       "  </tbody>\n",
       "</table>\n",
       "<p>4157 rows × 1 columns</p>\n",
       "</div>"
      ],
      "text/plain": [
       "      Crop_Damage\n",
       "0             0.0\n",
       "1             1.0\n",
       "2             1.0\n",
       "3             1.0\n",
       "4             1.0\n",
       "...           ...\n",
       "4593          0.0\n",
       "4595          1.0\n",
       "4596          0.0\n",
       "4597          0.0\n",
       "4598          0.0\n",
       "\n",
       "[4157 rows x 1 columns]"
      ]
     },
     "execution_count": 42,
     "metadata": {},
     "output_type": "execute_result"
    }
   ],
   "source": [
    "# taking the values for training and testing\n",
    "y=df4.iloc[:,-1:]\n",
    "y"
   ]
  },
  {
   "cell_type": "code",
   "execution_count": 43,
   "metadata": {},
   "outputs": [],
   "source": [
    "# splitting the data into training and testing datasets.\n",
    "from sklearn.model_selection import train_test_split\n",
    "from sklearn.linear_model import LogisticRegression\n",
    "from sklearn.metrics import confusion_matrix\n",
    "x_train, x_test, y_train, y_test = train_test_split(x, y, test_size=0.2, random_state=4)              "
   ]
  },
  {
   "cell_type": "code",
   "execution_count": 44,
   "metadata": {},
   "outputs": [],
   "source": [
    "# Using logistic regression to the model because the target variable contains as categorical values.\n",
    "logReg = LogisticRegression(C=0.01, solver='liblinear').fit(x_train,y_train)"
   ]
  },
  {
   "cell_type": "code",
   "execution_count": 45,
   "metadata": {},
   "outputs": [
    {
     "name": "stdout",
     "output_type": "stream",
     "text": [
      "[[695   0   0]\n",
      " [ 65  45   0]\n",
      " [  0  27   0]]\n"
     ]
    }
   ],
   "source": [
    "# predicted values of the test dataset.\n",
    "y_pred = logReg.predict(x_test)\n",
    "print(confusion_matrix(y_test,y_pred))"
   ]
  },
  {
   "cell_type": "code",
   "execution_count": 46,
   "metadata": {},
   "outputs": [
    {
     "name": "stdout",
     "output_type": "stream",
     "text": [
      "Accuracy: 0.8894230769230769\n"
     ]
    }
   ],
   "source": [
    "# Accuracy of Predicted dataset.\n",
    "print('Accuracy:',metrics.accuracy_score(y_test, y_pred))"
   ]
  },
  {
   "cell_type": "code",
   "execution_count": 47,
   "metadata": {},
   "outputs": [],
   "source": [
    "from sklearn.metrics import classification_report"
   ]
  },
  {
   "cell_type": "code",
   "execution_count": 48,
   "metadata": {},
   "outputs": [
    {
     "name": "stdout",
     "output_type": "stream",
     "text": [
      "              precision    recall  f1-score   support\n",
      "\n",
      "         0.0       0.91      1.00      0.96       695\n",
      "         1.0       0.62      0.41      0.49       110\n",
      "         2.0       0.00      0.00      0.00        27\n",
      "\n",
      "    accuracy                           0.89       832\n",
      "   macro avg       0.51      0.47      0.48       832\n",
      "weighted avg       0.85      0.89      0.86       832\n",
      "\n"
     ]
    }
   ],
   "source": [
    "# Finding classification_report of the model.\n",
    "y_pred = logReg.predict(x_test)\n",
    "print(classification_report(y_test,y_pred))"
   ]
  },
  {
   "cell_type": "code",
   "execution_count": 49,
   "metadata": {},
   "outputs": [],
   "source": [
    "from sklearn.model_selection import cross_val_score"
   ]
  },
  {
   "cell_type": "code",
   "execution_count": 50,
   "metadata": {},
   "outputs": [
    {
     "data": {
      "text/plain": [
       "0.8636090669258539"
      ]
     },
     "execution_count": 50,
     "metadata": {},
     "output_type": "execute_result"
    }
   ],
   "source": [
    "# Finding Croos-validation score of the model.\n",
    "from sklearn.model_selection import cross_val_score\n",
    "cross_val_score(LogisticRegression(),x,y,cv=5,scoring='accuracy').mean()\n"
   ]
  },
  {
   "cell_type": "code",
   "execution_count": 51,
   "metadata": {},
   "outputs": [
    {
     "data": {
      "text/plain": [
       "['Agriculture Dataset.pkl']"
      ]
     },
     "execution_count": 51,
     "metadata": {},
     "output_type": "execute_result"
    }
   ],
   "source": [
    "# saving the model as a pickle in the file.\n",
    "from sklearn.externals import joblib\n",
    "joblib.dump(LogisticRegression,'Agriculture Dataset.pkl')"
   ]
  },
  {
   "cell_type": "code",
   "execution_count": null,
   "metadata": {},
   "outputs": [],
   "source": []
  }
 ],
 "metadata": {
  "kernelspec": {
   "display_name": "Python 3",
   "language": "python",
   "name": "python3"
  },
  "language_info": {
   "codemirror_mode": {
    "name": "ipython",
    "version": 3
   },
   "file_extension": ".py",
   "mimetype": "text/x-python",
   "name": "python",
   "nbconvert_exporter": "python",
   "pygments_lexer": "ipython3",
   "version": "3.7.6"
  }
 },
 "nbformat": 4,
 "nbformat_minor": 4
}
